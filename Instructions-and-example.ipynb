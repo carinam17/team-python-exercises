{
 "cells": [
  {
   "cell_type": "markdown",
   "id": "4ebd395c",
   "metadata": {},
   "source": [
    "### Description\n",
    "\n",
    "You will work with a team to complete a task by creating <mark>multiple functions</mark>.\n",
    "\n",
    "Each program will take user input and use the information to perform a calculation or complete a task.  \n",
    "\n",
    "\n",
    "\n",
    "#### Suggested Process\n",
    "\n",
    "- Introduce yourselves to your team\n",
    "- Restate the problem to ensure everyone understands\n",
    "- Determine what each function will accomplish\n",
    "- Determine what variables and data types are needed\n",
    "- Delegate tasks to each team memeber\n",
    "    - Note: Every team member must write at least one function\n",
    "- Consolidate the functions into one notebook\n",
    "- Ensure the notebook runs without errors"
   ]
  },
  {
   "cell_type": "markdown",
   "id": "4175dfd9",
   "metadata": {},
   "source": [
    "## Guidelines"
   ]
  },
  {
   "cell_type": "markdown",
   "id": "f4065884",
   "metadata": {},
   "source": [
    "\n",
    "\n",
    "Use descriptive names for variables and functions\n",
    "\n",
    "**Non-descriptive variable names**\n",
    "\n",
    "```\n",
    "a = 125.78\n",
    "b = 5\n",
    "```\n",
    "\n",
    "\n",
    "**Descriptive variable names**\n",
    "\n",
    "```\n",
    "daily_cost = 125.78\n",
    "days_in_billing_period = 5\n",
    "```\n",
    "\n",
    "\n",
    "**Non-descriptive function names**\n",
    "```\n",
    "def my_function():\n",
    "    daily_cost * days_in_billing_period\n",
    " \n",
    "```\n",
    "\n",
    "**Descriptive function names**\n",
    "\n",
    "```\n",
    "def find_total_cost():\n",
    "    daily_cost * days_in_billing_period\n",
    " \n",
    "```\n",
    "\n",
    "\n",
    "\n",
    "\n"
   ]
  },
  {
   "cell_type": "markdown",
   "id": "95d7c502",
   "metadata": {},
   "source": [
    "### Create a doc string to describe the function\n",
    "\n",
    "Doc strings are enclosed by three single quotes or three double quotes. The string describes the purpose and usage of the function. It may also include what parameters the function takes.  \n",
    "\n",
    "\n",
    "#### Examples\n",
    "\n",
    "```\n",
    "def square(n):\n",
    "    ''' Takes in a number n and returns a square '''\n",
    "    return n**2\n",
    "```\n",
    "\n",
    "\n",
    "```\n",
    "def square(n):\n",
    "    \"\"\" Takes in a number n and returns a square \"\"\"\n",
    "    return n**2\n",
    "```\n",
    "\n"
   ]
  },
  {
   "cell_type": "markdown",
   "id": "7a83b7c2",
   "metadata": {},
   "source": [
    "### Suggestions"
   ]
  },
  {
   "cell_type": "markdown",
   "id": "11b4f880",
   "metadata": {},
   "source": [
    "#### Selecting data types\n",
    "\n",
    "Consider which of the various data types and data structures will best represent the information your program will use. "
   ]
  },
  {
   "cell_type": "markdown",
   "id": "b608489f",
   "metadata": {},
   "source": [
    "#### Single purpose functions\n",
    "\n",
    "Define each function such that is completes one task. This will help you troubleshoot code. "
   ]
  },
  {
   "cell_type": "markdown",
   "id": "3b51a68b",
   "metadata": {},
   "source": [
    "#### Comment code \n",
    "\n",
    "Include comments to describe the purpose of sections of code. \n",
    "\n",
    "\n",
    "```\n",
    "def make_full_name():\n",
    "### concatenate first name and last name\n",
    "    full_name = first_name + last_name\n",
    "```\n",
    "\n",
    "Using descriptive variable and function will minimize the comments needed to understand your code. "
   ]
  },
  {
   "cell_type": "markdown",
   "id": "71a8eb5c",
   "metadata": {},
   "source": []
  },
  {
   "cell_type": "code",
   "execution_count": null,
   "id": "ef6625c1",
   "metadata": {},
   "outputs": [],
   "source": []
  }
 ],
 "metadata": {
  "kernelspec": {
   "display_name": "Python 3 (ipykernel)",
   "language": "python",
   "name": "python3"
  },
  "language_info": {
   "codemirror_mode": {
    "name": "ipython",
    "version": 3
   },
   "file_extension": ".py",
   "mimetype": "text/x-python",
   "name": "python",
   "nbconvert_exporter": "python",
   "pygments_lexer": "ipython3",
   "version": "3.9.13"
  }
 },
 "nbformat": 4,
 "nbformat_minor": 5
}
