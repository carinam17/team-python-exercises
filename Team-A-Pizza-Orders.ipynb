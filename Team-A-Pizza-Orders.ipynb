{
 "cells": [
  {
   "cell_type": "markdown",
   "id": "74d4a7df",
   "metadata": {},
   "source": [
    "## Scenario\n",
    "\n",
    "Your team will create a program to calculate the cost of a pizza.\n",
    "\n",
    "A user will input the size of the pizza as well as select toppings from a list of available options. \n",
    "\n",
    "Based on the responses, calculate the total price for the pizza.\n",
    "\n",
    "#### Notes\n",
    "\n",
    "- Consider how you will present options to the user\n",
    "- Consider how you will handle the number of toppings a user may enter\n",
    "\n",
    "\n",
    "### Specifications\n",
    "\n",
    "#### Prices by Size\n",
    "\n",
    "Small - $8.99\n",
    "\n",
    "Medium - $12.99\n",
    "\n",
    "Large - $17.99\n",
    "\n",
    "\n",
    "\n",
    "#### Prices for Additional Toppings\n",
    "\n",
    "\n",
    "1 topping - Additional $1.50\n",
    "\n",
    "2 toppings - Additional $3.00\n",
    "\n",
    "3 or more toppings - Additional $4.00\n",
    "\n",
    "\n",
    "\n",
    "#### List of available toppings\n",
    "\n",
    "- Extra cheese\n",
    "- Mushrooms\n",
    "- Bell peppers\n",
    "- Red onions\n",
    "- Italian sausage\n",
    "- Pepperoni\n",
    "- Olives\n",
    "\n",
    "\n",
    "\n",
    "### Extensions \n",
    "\n",
    "- Create an option to order a second pizza upon completion of the first pizza. Is it possible to reuse functions to accomplish this?\n",
    "\n",
    "- Include the sales tax of 8.25%.\n",
    "\n",
    "- Allow an option to add a tip to the order. "
   ]
  },
  {
   "cell_type": "code",
   "execution_count": null,
   "id": "462feaa8",
   "metadata": {},
   "outputs": [],
   "source": []
  },
  {
   "cell_type": "code",
   "execution_count": null,
   "id": "5df9a018",
   "metadata": {},
   "outputs": [],
   "source": []
  }
 ],
 "metadata": {
  "kernelspec": {
   "display_name": "Python 3 (ipykernel)",
   "language": "python",
   "name": "python3"
  },
  "language_info": {
   "codemirror_mode": {
    "name": "ipython",
    "version": 3
   },
   "file_extension": ".py",
   "mimetype": "text/x-python",
   "name": "python",
   "nbconvert_exporter": "python",
   "pygments_lexer": "ipython3",
   "version": "3.9.13"
  }
 },
 "nbformat": 4,
 "nbformat_minor": 5
}
