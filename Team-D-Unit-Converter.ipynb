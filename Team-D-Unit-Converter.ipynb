{
 "cells": [
  {
   "cell_type": "markdown",
   "id": "6b512fea",
   "metadata": {},
   "source": [
    "## Scenario\n",
    "\n",
    "Your team will create a program to calculate unit conversions for the following:\n",
    "\n",
    "- Inches and centimeters\n",
    "- Pounds and kilograms\n",
    "- Fluid ounces and milliliters\n",
    "\n",
    "A user will select if they are converting from imperial to metric or metric to imperial. They will input the units they wish to convert and the value of their measurement. Return the converted measurement. \n",
    "\n",
    "\n",
    "#### Notes\n",
    "\n",
    "- Consider how you will present options to the user.\n",
    "- How should you handle a conversion from inch to centimeter versus centimeter to inch?\n",
    "\n",
    "\n",
    "\n",
    "### Specifications\n",
    "\n",
    "#### Unit Conversions\n",
    "\n",
    "\n",
    "1 inch = 2.54 centimeters\n",
    "1 kilogram = 2.2 pounds\n",
    "1 fluid ounce = 30 milliliters\n",
    "\n",
    "\n",
    "\n",
    "### Extensions \n",
    "\n",
    "- Expand length to include miles and kilometers. \n",
    "    -Can you accomplish this using functions you've already created?\n",
    "- Include an option to convert from square feet to square meters\n"
   ]
  },
  {
   "cell_type": "code",
   "execution_count": null,
   "id": "b00353b2",
   "metadata": {},
   "outputs": [],
   "source": []
  }
 ],
 "metadata": {
  "kernelspec": {
   "display_name": "Python 3 (ipykernel)",
   "language": "python",
   "name": "python3"
  },
  "language_info": {
   "codemirror_mode": {
    "name": "ipython",
    "version": 3
   },
   "file_extension": ".py",
   "mimetype": "text/x-python",
   "name": "python",
   "nbconvert_exporter": "python",
   "pygments_lexer": "ipython3",
   "version": "3.9.13"
  }
 },
 "nbformat": 4,
 "nbformat_minor": 5
}
