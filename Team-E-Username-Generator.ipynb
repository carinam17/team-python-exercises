{
 "cells": [
  {
   "cell_type": "markdown",
   "id": "bb4a8f38",
   "metadata": {},
   "source": [
    "## Scenario\n",
    "\n",
    "Your team will create a program to generate a username based on a user's full name and date of birth. \n",
    "\n",
    "\n",
    "\n",
    "\n",
    "\n",
    "\n",
    "#### Specifications\n",
    "\n",
    "A username is comprised of the first two letters of the first name, the first four letters of the last name, and the last two digits of the birth year. \n",
    "\n",
    "\n",
    "**Example**\n",
    "\n",
    "Emmy Noether \n",
    "\n",
    "\n",
    "#### Notes\n",
    "\n",
    "- Consider how you will handle the format a user enters their birth date. \n",
    "\n",
    "\n",
    "\n",
    "\n",
    "### Extensions \n",
    "\n",
    "- Handle unclean input such as trailing white space or special characters. "
   ]
  },
  {
   "cell_type": "code",
   "execution_count": null,
   "id": "bb74474d",
   "metadata": {},
   "outputs": [],
   "source": []
  }
 ],
 "metadata": {
  "kernelspec": {
   "display_name": "Python 3 (ipykernel)",
   "language": "python",
   "name": "python3"
  },
  "language_info": {
   "codemirror_mode": {
    "name": "ipython",
    "version": 3
   },
   "file_extension": ".py",
   "mimetype": "text/x-python",
   "name": "python",
   "nbconvert_exporter": "python",
   "pygments_lexer": "ipython3",
   "version": "3.9.13"
  }
 },
 "nbformat": 4,
 "nbformat_minor": 5
}
