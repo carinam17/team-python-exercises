{
 "cells": [
  {
   "cell_type": "markdown",
   "id": "06891db9",
   "metadata": {},
   "source": [
    "## Scenario\n",
    "\n",
    "Your team will create a program to determine the number of bills and coins to provide as change for a transaction. \n",
    "\n",
    "\n",
    "A user will input the price of a transaction and the money supplied. \n",
    "\n",
    "Return the total number of bills and coins needed to provide change for the transaction. \n",
    "\n",
    "### Example\n",
    "\n",
    "A $12.43 bill is paid for with a 20 dollar bill.\n",
    "\n",
    "The change due is $7.57 and the bills and coins needed are:\n",
    "\n",
    "1 - 5 dollar bill\n",
    "2 - 1 dollar bills\n",
    "2 - quarters\n",
    "1 - nickel\n",
    "2 - pennies\n",
    "\n",
    "#### Notes\n",
    "\n",
    "- Consider how you will present options to the user\n",
    "- Consider how you will ensure the fewest number of bills and coins are issued.\n",
    "\n",
    "\n",
    "### Extensions \n",
    "\n",
    "- Create an option to account for a lack of bills or coins\n",
    "    - How will the program handle an instance where quarters are not available?\n",
    "\n",
    "\n"
   ]
  },
  {
   "cell_type": "code",
   "execution_count": null,
   "id": "235d030a",
   "metadata": {},
   "outputs": [],
   "source": []
  }
 ],
 "metadata": {
  "kernelspec": {
   "display_name": "Python 3 (ipykernel)",
   "language": "python",
   "name": "python3"
  },
  "language_info": {
   "codemirror_mode": {
    "name": "ipython",
    "version": 3
   },
   "file_extension": ".py",
   "mimetype": "text/x-python",
   "name": "python",
   "nbconvert_exporter": "python",
   "pygments_lexer": "ipython3",
   "version": "3.9.13"
  }
 },
 "nbformat": 4,
 "nbformat_minor": 5
}
