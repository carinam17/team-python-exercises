{
 "cells": [
  {
   "cell_type": "markdown",
   "id": "82cff655",
   "metadata": {},
   "source": [
    "## Scenario\n",
    "\n",
    "Your team will create a program to calculate the number of paint cans needed to paint the four walls of a rectangular room. \n",
    "\n",
    "A user will input the dimensions of their room in feet (length, width, and height). They will also select a grade of paint.\n",
    "\n",
    "Return the total number of cans needed and the total price. \n",
    "\n",
    "\n",
    "#### Notes\n",
    "\n",
    "- Consider how you will store information about each paint grade\n",
    "- Consider how you will present options to the user\n",
    "\n",
    "\n",
    "\n",
    "### Specifications\n",
    "\n",
    "#### Prices by Paint Grade\n",
    "\n",
    "Standard - $42.99\n",
    "\n",
    "Premium - $55.99\n",
    "\n",
    "Professional - $74.99\n",
    "\n",
    "\n",
    "\n",
    "#### Number of Square Feet per Can \n",
    "\n",
    "\n",
    "Standard - 400\n",
    "\n",
    "Premium - 500\n",
    "\n",
    "Professional - 600\n",
    "\n",
    "\n",
    "\n",
    "\n",
    "### Extensions \n",
    "\n",
    "- Create an option to specify the number of coats to apply. \n",
    "- Consider an option to find the paint needed for an entire home. \n",
    "- Handle measurements in meters. \n"
   ]
  },
  {
   "cell_type": "markdown",
   "id": "61f1b7b7",
   "metadata": {},
   "source": []
  }
 ],
 "metadata": {
  "kernelspec": {
   "display_name": "Python 3 (ipykernel)",
   "language": "python",
   "name": "python3"
  },
  "language_info": {
   "codemirror_mode": {
    "name": "ipython",
    "version": 3
   },
   "file_extension": ".py",
   "mimetype": "text/x-python",
   "name": "python",
   "nbconvert_exporter": "python",
   "pygments_lexer": "ipython3",
   "version": "3.9.13"
  }
 },
 "nbformat": 4,
 "nbformat_minor": 5
}
